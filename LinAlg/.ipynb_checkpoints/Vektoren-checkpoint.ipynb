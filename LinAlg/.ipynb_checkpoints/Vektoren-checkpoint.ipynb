{
 "cells": [
  {
   "attachments": {},
   "cell_type": "markdown",
   "id": "6e094166",
   "metadata": {},
   "source": [
    "# 2.1 Vektoren\n",
    "- Vektoren sind Pfeile mit einer Länge und einer Richtung \n",
    "<img src=\"vektoren.png\" alt=\"Vektoren\" style=\"float: right; margin-right: 10px;\" width = 200 px/>\n",
    "- bla\n"
   ]
  }
 ],
 "metadata": {
  "kernelspec": {
   "display_name": "Python 3",
   "language": "python",
   "name": "python3"
  },
  "language_info": {
   "codemirror_mode": {
    "name": "ipython",
    "version": 3
   },
   "file_extension": ".py",
   "mimetype": "text/x-python",
   "name": "python",
   "nbconvert_exporter": "python",
   "pygments_lexer": "ipython3",
   "version": "3.9.1"
  }
 },
 "nbformat": 4,
 "nbformat_minor": 5
}
