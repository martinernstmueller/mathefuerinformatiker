{
 "cells": [
  {
   "attachments": {},
   "cell_type": "markdown",
   "id": "ca81b694",
   "metadata": {},
   "source": [
    "# 2.1 Vektoren\n",
    "- Vektoren sind von der Anschauung her Pfeile mit einer Länge und einer Richtung \n",
    "<img src=\"vektoren.png\" alt=\"Vektoren\" style=\"float: right; margin-right: 10px;\" width = 150 px/>\n",
    "- Sie haben keinen fixen Ort -> die drei roten Vektoren rechts sind alle gleich, der Blaue nicht\n",
    "- Geometrische Interpratation: Verschiebunge\n",
    "- Einsatz in Physik für *gerichtete* Größen (Geschwindigkeit, Beschleunigung, Kraft,...)\n",
    "- Wir stellen Vektoren als fettgedruckte Kleinbuchstaben mit Pfeil über dem Buchstaben dar ($\\vec{a}$, $\\vec{b}$, $\\vec{x}$)\n",
    "- Im Buch von Weitz wird der Pfeil weg gelassen, in Handschrift gibts nur den Pfeil\n",
    "- In Grafiken (so klar ist dass es sich um Vektoren handelt) verwenden wir Kleinbuchstaben\n",
    "\n",
    "## Addition\n"
   ]
  },
  {
   "cell_type": "code",
   "execution_count": null,
   "id": "2b1f7b33",
   "metadata": {},
   "outputs": [],
   "source": []
  }
 ],
 "metadata": {
  "kernelspec": {
   "display_name": "Python 3",
   "language": "python",
   "name": "python3"
  },
  "language_info": {
   "codemirror_mode": {
    "name": "ipython",
    "version": 3
   },
   "file_extension": ".py",
   "mimetype": "text/x-python",
   "name": "python",
   "nbconvert_exporter": "python",
   "pygments_lexer": "ipython3",
   "version": "3.9.1"
  }
 },
 "nbformat": 4,
 "nbformat_minor": 5
}
