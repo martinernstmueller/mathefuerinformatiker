{
 "cells": [
  {
   "cell_type": "markdown",
   "id": "fb90b387",
   "metadata": {},
   "source": [
    "# 2.1 Vektoren\n",
    "- Vektoren sind von der Anschauung her Pfeile mit einer Länge und einer Richtung \n",
    "<img src=\"vektoren.png\" alt=\"Vektoren\" style=\"float: right; margin-right: 10px;\" width = 150 px/>\n",
    "- Sie haben keinen fixen Ort -> die drei roten Vektoren rechts sind alle gleich, der Blaue nicht\n",
    "- Geometrische Interpratation: Darstellung von Verschiebungen\n",
    "- Einsatz in Physik für *gerichtete* Größen (Geschwindigkeit, Beschleunigung, Kraft,...)\n",
    "- Wir stellen Vektoren als fettgedruckte Kleinbuchstaben mit Pfeil über dem Buchstaben dar ($\\vec{a}$, $\\vec{b}$, $\\vec{x}$)\n",
    "- Im Buch von Weitz wird der Pfeil weggelassen, in Handschrift gibts nur den Pfeil\n",
    "- In Grafiken (so klar ist, dass es sich um Vektoren handelt) verwenden wir Kleinbuchstaben\n",
    "\n",
    "## Addition, Skalarmultiplikation\n",
    "<img src=\"vektoraddmult.png\" alt=\"Vektoren\" style=\"float: right; margin-left: 10px; margin-button: 10px;\" width = 300 px/>\n",
    "\n",
    "- Vekroten werden addiert, indem der Anfangspunkte eines Vektors an den Endpunkts des anderen *verschoben* wird\n",
    "- Dabei spielt die *Reihenfolge* keine Rolle -> Die Vektoraddition ist **kommutativ**\n",
    "- Führt man beide Verschiebungen durch, entsteht das sogenannte Kräfteparallelogram\n",
    "- Man kann die Vektoraddition also als die Addition von Kräften interpretieren\n",
    "- Multiplizieren wir einen Vektor mit einem **Skalar** (Zahl) verlängert bzw. verkürzt sich der Vektor\n",
    "- Multiplizieren wir mit $-1$ ändert sich *nur* die Richtung des Vektors\n",
    "- Addieren wir $\\vec{a}$ und $-1 \\cdot \\vec{a}$ so entsteht der sogenannte **Nullvektor** $\\vec{0}$\n",
    "- Für den Nullvektor gelten folgende Rechenregeln (wie auch für die Skalare Null) \n",
    "$\\vec{0} \\cdot \\vec{a}$ = $\\vec{0}$, $\\vec{a} - \\vec{0}$ = $\\vec{a}$ sowie $(-1) \\cdot \\vec{a} + \\vec{a} = \\vec{0}$\n",
    "\n",
    "Bisher haben unsere Vektoren keinen Ort, sondern *nur* eine Richtung und eine Länge. Um das Rechnen mit Vektoren auf das Rechnen mit Zahlen zurückführen zu können, können wir das karthesische Koordinatensystem verwenden und unsere Vektoren in dessen Ursprung *verschieben*. Die Vektoren sind dann zwar immer noch nicht an einen festen Ort gebunden, wir können einen Vektor dann aber durch die Koordinaten seines Endpunktes beschreiben!\n",
    "\n",
    "Der Vektor $\\vec{a}$ in der obigen Skizze würde man dann als\n",
    "$$\n",
    "\\vec{a} =\n",
    "\\begin{pmatrix}\n",
    "3 \\\\ 2 \n",
    "\\end{pmatrix}\n",
    "=\n",
    "\\begin{pmatrix}\n",
    "a_1 \\\\ a_2 \n",
    "\\end{pmatrix}\n",
    "$$\n",
    "\n",
    "schreiben. Die einzelnen Elemente des Vektors nennt man dann **Komponenten** und identifiziert sie über den Namen des Vektors (in unserem Beispiel $a$) gefolgt von einem Index welcher die *Position* des Elements im Vektor angibt. \n",
    "\n",
    "Somit sind Vektoraddition und Skalarmultiplikation *komponentenweise* möglich:\n",
    "\n",
    "$$\n",
    "\\begin{pmatrix}\n",
    "a_1 \\\\ a_2 \n",
    "\\end{pmatrix}\n",
    "+\n",
    "\\begin{pmatrix}\n",
    "b_1 \\\\ b_2 \n",
    "\\end{pmatrix}\n",
    "=\n",
    "\\begin{pmatrix}\n",
    "a_1 + b_1 \\\\ a_2 + b_2\n",
    "\\end{pmatrix}\n",
    ",\n",
    "\\; \\;\n",
    "\\lambda \\cdot\n",
    "\\begin{pmatrix}\n",
    "a_1 \\\\ a_2 \n",
    "\\end{pmatrix}\n",
    "=\n",
    "\\begin{pmatrix}\n",
    "\\lambda \\cdot a_1 \\\\ \\lambda \\cdot a_2\n",
    "\\end{pmatrix}\n",
    "$$\n",
    "\n"
   ]
  },
  {
   "cell_type": "code",
   "execution_count": 69,
   "id": "a4831230",
   "metadata": {},
   "outputs": [],
   "source": [
    "def vectorAdd(a,b):\n",
    "    c = []\n",
    "    for i in range(len(a)):\n",
    "        c.append(a[i] + b[i])\n",
    "        \n",
    "    return c    "
   ]
  },
  {
   "cell_type": "code",
   "execution_count": 70,
   "id": "34c98ee3",
   "metadata": {},
   "outputs": [
    {
     "data": {
      "text/plain": [
       "[3, 3]"
      ]
     },
     "execution_count": 70,
     "metadata": {},
     "output_type": "execute_result"
    }
   ],
   "source": [
    "vectorAdd([1,2], [2,1])"
   ]
  },
  {
   "cell_type": "code",
   "execution_count": 77,
   "id": "fbdf8e66",
   "metadata": {},
   "outputs": [],
   "source": [
    "def plotVec(a):\n",
    "    for i in a:\n",
    "      print(i)\n"
   ]
  },
  {
   "cell_type": "code",
   "execution_count": 81,
   "id": "bc14e799",
   "metadata": {},
   "outputs": [
    {
     "name": "stdout",
     "output_type": "stream",
     "text": [
      "[1, 2, 3]\n",
      "[1, 2, 3, 5]\n",
      "[1, 2, 3, 4, 5]\n",
      "[5, 4, 3, 2, 1]\n"
     ]
    }
   ],
   "source": [
    "a = [1,2,3]\n",
    "print(a)\n",
    "a.append(5)\n",
    "print(a)\n",
    "a.insert(3,4)\n",
    "print(a)\n",
    "a.reverse()\n",
    "print(a)\n"
   ]
  },
  {
   "cell_type": "code",
   "execution_count": 80,
   "id": "9bdb4cc2",
   "metadata": {},
   "outputs": [
    {
     "data": {
      "text/plain": [
       "(True, True)"
      ]
     },
     "execution_count": 80,
     "metadata": {},
     "output_type": "execute_result"
    }
   ],
   "source": [
    "3 in a, 1 in a"
   ]
  },
  {
   "cell_type": "code",
   "execution_count": 82,
   "id": "efb7a99c",
   "metadata": {},
   "outputs": [
    {
     "name": "stdout",
     "output_type": "stream",
     "text": [
      "[1, 2, 3, 4, 5]\n"
     ]
    }
   ],
   "source": [
    "a.reverse()\n",
    "print(a)"
   ]
  },
  {
   "cell_type": "code",
   "execution_count": 129,
   "id": "b52b980a",
   "metadata": {},
   "outputs": [
    {
     "data": {
      "text/plain": [
       "([1, 2], [3, 4], 3, [3], 0, 4)"
      ]
     },
     "execution_count": 129,
     "metadata": {},
     "output_type": "execute_result"
    }
   ],
   "source": [
    "a = list(range(5))\n",
    "a[1:3], a[3:5], a[-2], a[3:-1], a[0], a[-1]"
   ]
  },
  {
   "cell_type": "code",
   "execution_count": 126,
   "id": "3e10a47f",
   "metadata": {},
   "outputs": [],
   "source": [
    "a = list(range(5))\n",
    "b = list(range(2,6))\n",
    "c = list(range(2,10,2))\n"
   ]
  },
  {
   "cell_type": "code",
   "execution_count": 127,
   "id": "764ab566",
   "metadata": {},
   "outputs": [
    {
     "name": "stdout",
     "output_type": "stream",
     "text": [
      "[0, 1, 2, 3, 4]\n",
      "[2, 3, 4, 5]\n",
      "[2, 4, 6, 8]\n"
     ]
    },
    {
     "data": {
      "text/plain": [
       "(None, None, None)"
      ]
     },
     "execution_count": 127,
     "metadata": {},
     "output_type": "execute_result"
    }
   ],
   "source": [
    "print(a), print(b), print(c)"
   ]
  },
  {
   "cell_type": "code",
   "execution_count": 120,
   "id": "c102b60d",
   "metadata": {},
   "outputs": [
    {
     "name": "stdout",
     "output_type": "stream",
     "text": [
      "2\n",
      "4\n",
      "6\n",
      "8\n",
      "10\n",
      "12\n",
      "14\n",
      "16\n",
      "18\n"
     ]
    }
   ],
   "source": [
    "for i in range(2,20,2):\n",
    "    print(i)"
   ]
  },
  {
   "cell_type": "code",
   "execution_count": null,
   "id": "45deab98",
   "metadata": {},
   "outputs": [],
   "source": []
  },
  {
   "cell_type": "code",
   "execution_count": null,
   "id": "c09826c6",
   "metadata": {},
   "outputs": [],
   "source": []
  }
 ],
 "metadata": {
  "kernelspec": {
   "display_name": "Python 3",
   "language": "python",
   "name": "python3"
  },
  "language_info": {
   "codemirror_mode": {
    "name": "ipython",
    "version": 3
   },
   "file_extension": ".py",
   "mimetype": "text/x-python",
   "name": "python",
   "nbconvert_exporter": "python",
   "pygments_lexer": "ipython3",
   "version": "3.9.1"
  }
 },
 "nbformat": 4,
 "nbformat_minor": 5
}
