{
 "cells": [
  {
   "attachments": {},
   "cell_type": "markdown",
   "id": "fb90b387",
   "metadata": {},
   "source": [
    "# 2.1 Vektoren\n",
    "- Vektoren sind von der Anschauung her Pfeile mit einer Länge und einer Richtung \n",
    "<img src=\"vektoren.png\" alt=\"Vektoren\" style=\"float: right; margin-right: 10px;\" width = 150 px/>\n",
    "- Sie haben keinen fixen Ort -> die drei roten Vektoren rechts sind alle gleich, der Blaue nicht\n",
    "- Geometrische Interpratation: Darstellung von Verschiebungen\n",
    "- Einsatz in Physik für *gerichtete* Größen (Geschwindigkeit, Beschleunigung, Kraft,...)\n",
    "- Wir stellen Vektoren als fettgedruckte Kleinbuchstaben mit Pfeil über dem Buchstaben dar ($\\vec{a}$, $\\vec{b}$, $\\vec{x}$)\n",
    "- Im Buch von Weitz wird der Pfeil weggelassen, in Handschrift gibts nur den Pfeil\n",
    "- In Grafiken (so klar ist, dass es sich um Vektoren handelt) verwenden wir Kleinbuchstaben\n",
    "\n",
    "## Addition, Skalarmultiplikation\n",
    "<img src=\"vektoraddmult.png\" alt=\"Vektoren\" style=\"float: right; margin-left: 10px; margin-button: 10px;\" width = 300 px/>\n",
    "\n",
    "- Vekroten werden addiert, indem der Anfangspunkte eines Vektors an den Endpunkts des anderen *verschoben* wird\n",
    "- Dabei spielt die *Reihenfolge* keine Rolle -> Die Vektoraddition ist **kommutativ**\n",
    "- Führt man beide Verschiebungen durch, entsteht das sogenannte Kräfteparallelogram\n",
    "- Man kann die Vektoraddition also als die Addition von Kräften interpretieren\n",
    "- Multiplizieren wir einen Vektor mit einem **Skalar** (Zahl) verlängert bzw. verkürzt sich der Vektor\n",
    "- Multiplizieren wir mit $-1$ ändert sich *nur* die Richtung des Vektors\n",
    "- Addieren wir $\\vec{a}$ und $-1 \\cdot \\vec{a}$ so entsteht der sogenannte **Nullvektor** $\\vec{0}$\n",
    "- Für den Nullvektor gelten folgende Rechenregeln (wie auch für die Skalare Null) \n",
    "$\\vec{0} \\cdot \\vec{a}$ = $\\vec{0}$, $\\vec{a} - \\vec{0}$ = $\\vec{a}$ sowie $(-1) \\cdot \\vec{a} + \\vec{a} = \\vec{0}$\n",
    "\n",
    "Bisher haben unsere Vektoren keinen Ort, sondern *nur* eine Richtung und eine Länge. Um das Rechnen mit Vektoren auf das Rechnen mit Zahlen zurückführen zu können, können wir das karthesische Koordinatensystem verwenden und unsere Vektoren in dessen Ursprung *verschieben*. Die Vektoren sind dann zwar immer noch nicht an einen festen Ort gebunden, wir können einen Vektor dann aber durch die Koordinaten seines Endpunktes beschreiben!\n",
    "\n",
    "Der Vektor $\\vec{a}$ in der obigen Skizze würde man dann als\n",
    "$$\n",
    "\\vec{a} =\n",
    "\\begin{pmatrix}\n",
    "3 \\\\ 2 \n",
    "\\end{pmatrix}\n",
    "=\n",
    "\\begin{pmatrix}\n",
    "a_1 \\\\ a_2 \n",
    "\\end{pmatrix}\n",
    "$$\n",
    "schreiben. Die einzelnen Elemente des Vektors nennt man dann **Komponenten** und identifiziert sie über den Namen des Vektors (in unserem Beispiel $a$) gefolgt von einem Index welcher die *Position* des Elements im Vektor angibt. \n"
   ]
  },
  {
   "cell_type": "code",
   "execution_count": null,
   "id": "a4831230",
   "metadata": {},
   "outputs": [],
   "source": []
  }
 ],
 "metadata": {
  "kernelspec": {
   "display_name": "Python 3",
   "language": "python",
   "name": "python3"
  },
  "language_info": {
   "codemirror_mode": {
    "name": "ipython",
    "version": 3
   },
   "file_extension": ".py",
   "mimetype": "text/x-python",
   "name": "python",
   "nbconvert_exporter": "python",
   "pygments_lexer": "ipython3",
   "version": "3.9.1"
  }
 },
 "nbformat": 4,
 "nbformat_minor": 5
}
